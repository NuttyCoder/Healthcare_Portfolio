{
 "cells": [
  {
   "cell_type": "code",
   "execution_count": null,
   "id": "2159e022-c69b-440a-9a58-a30d7c741df8",
   "metadata": {},
   "outputs": [],
   "source": [
    "# Install compatible versions - scikit-learn 1.0.2 works well with numpy 1.20.3\n",
    "!pip install numpy==1.20.3\n",
    "!pip install scikit-learn==1.0.2\n",
    "\n",
    "# Wait a moment for installations to complete\n",
    "import time\n",
    "time.sleep(5)\n",
    "\n",
    "# Import all Libraries\n",
    "import numpy as np\n",
    "import pandas as pd\n",
    "import matplotlib.pyplot as plt\n",
    "import seaborn as sns\n",
    "\n",
    "# Inline matplotlib to view inside this notebook directly\n",
    "%matplotlib inline\n",
    "\n",
    "# Models\n",
    "from sklearn.linear_model import LogisticRegression\n",
    "from sklearn.neighbors import KNeighborsClassifier\n",
    "from sklearn.ensemble import RandomForestClassifier\n",
    "\n",
    "# Evaluation\n",
    "from sklearn.model_selection import train_test_split, cross_val_score\n",
    "from sklearn.model_selection import RandomizedSearchCV, GridSearchCV\n",
    "from sklearn.metrics import confusion_matrix, classification_report\n",
    "from sklearn.metrics import precision_score, recall_score, f1_score\n",
    "from sklearn.metrics import plot_roc_curve"
   ]
  },
  {
   "cell_type": "code",
   "execution_count": null,
   "id": "d6c7bf9c-6dcb-4da5-bc90-2e542ee173cd",
   "metadata": {},
   "outputs": [],
   "source": [
    "# Install compatible versions - scikit-learn 1.0.2 works well with numpy 1.20.3\n",
    "!pip install numpy==1.20.3\n",
    "!pip install scikit-learn==1.0.2\n",
    "\n",
    "# Wait a moment for installations to complete\n",
    "import time\n",
    "time.sleep(5)\n",
    "\n",
    "# Import all Libraries\n",
    "import numpy as np\n",
    "import pandas as pd\n",
    "import matplotlib.pyplot as plt\n",
    "import seaborn as sns\n",
    "\n",
    "# Inline matplotlib to view inside this notebook directly\n",
    "%matplotlib inline\n",
    "\n",
    "# Models\n",
    "from sklearn.linear_model import LogisticRegression\n",
    "from sklearn.neighbors import KNeighborsClassifier\n",
    "from sklearn.ensemble import RandomForestClassifier\n",
    "\n",
    "# Evaluation\n",
    "from sklearn.model_selection import train_test_split, cross_val_score\n",
    "from sklearn.model_selection import RandomizedSearchCV, GridSearchCV\n",
    "from sklearn.metrics import confusion_matrix, classification_report\n",
    "from sklearn.metrics import precision_score, recall_score, f1_score\n",
    "from sklearn.metrics import plot_roc_curve"
   ]
  },
  {
   "cell_type": "code",
   "execution_count": null,
   "id": "067275f7-ba81-45e4-99cc-482b99713e19",
   "metadata": {},
   "outputs": [],
   "source": []
  }
 ],
 "metadata": {
  "kernelspec": {
   "display_name": "Python 3 (ipykernel)",
   "language": "python",
   "name": "python3"
  },
  "language_info": {
   "codemirror_mode": {
    "name": "ipython",
    "version": 3
   },
   "file_extension": ".py",
   "mimetype": "text/x-python",
   "name": "python",
   "nbconvert_exporter": "python",
   "pygments_lexer": "ipython3",
   "version": "3.12.4"
  }
 },
 "nbformat": 4,
 "nbformat_minor": 5
}
